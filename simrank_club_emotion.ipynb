{
 "cells": [
  {
   "cell_type": "code",
   "execution_count": 1,
   "metadata": {
    "collapsed": true
   },
   "outputs": [],
   "source": [
    "import numpy\n",
    "from numpy import matrix"
   ]
  },
  {
   "cell_type": "code",
   "execution_count": 3,
   "metadata": {},
   "outputs": [],
   "source": [
    "with open('./nametagrate_num_nonull.txt', 'r') as log_fp:\n",
    "    logs = [ log.strip() for log in log_fp.readlines() ]"
   ]
  },
  {
   "cell_type": "code",
   "execution_count": 4,
   "metadata": {
    "collapsed": true
   },
   "outputs": [],
   "source": [
    "logs_tuple = [ tuple(log.split(\",\")) for log in logs ]"
   ]
  },
  {
   "cell_type": "code",
   "execution_count": 5,
   "metadata": {
    "collapsed": true
   },
   "outputs": [],
   "source": [
    "restaurants = list(set([ log[0] for log in logs_tuple ]))\n",
    "tags = list(set([ log[1] for log in logs_tuple ]))"
   ]
  },
  {
   "cell_type": "code",
   "execution_count": 8,
   "metadata": {},
   "outputs": [
    {
     "name": "stdout",
     "output_type": "stream",
     "text": [
      "[[ 1.  1.  1. ...,  1.  1.  0.]\n",
      " [ 1.  1.  0. ...,  1.  1.  0.]\n",
      " [ 1.  1.  0. ...,  1.  0.  0.]\n",
      " ..., \n",
      " [ 1.  0.  0. ...,  1.  1.  0.]\n",
      " [ 1.  0.  0. ...,  0.  0.  0.]\n",
      " [ 1.  1.  0. ...,  1.  0.  0.]]\n"
     ]
    }
   ],
   "source": [
    "# Graph means the relations number\n",
    "graph = numpy.matrix(numpy.zeros([len(restaurants), len(tags)]))\n",
    "\n",
    "for log in logs_tuple:\n",
    "    restaurant = log[0]\n",
    "    tag = log[1]\n",
    "    r_i = restaurants.index(restaurant)\n",
    "    t_j = tags.index(tag)\n",
    "    graph[r_i, t_j] += 1\n",
    "\n",
    "print (graph)"
   ]
  },
  {
   "cell_type": "code",
   "execution_count": 20,
   "metadata": {
    "scrolled": true
   },
   "outputs": [
    {
     "data": {
      "text/plain": [
       "4851"
      ]
     },
     "execution_count": 20,
     "metadata": {},
     "output_type": "execute_result"
    }
   ],
   "source": [
    "len(restaurants)"
   ]
  },
  {
   "cell_type": "code",
   "execution_count": 21,
   "metadata": {},
   "outputs": [
    {
     "data": {
      "text/plain": [
       "14"
      ]
     },
     "execution_count": 21,
     "metadata": {},
     "output_type": "execute_result"
    }
   ],
   "source": [
    "len(tags)"
   ]
  },
  {
   "cell_type": "code",
   "execution_count": 9,
   "metadata": {
    "collapsed": true
   },
   "outputs": [],
   "source": [
    "restaurant_sim = matrix(numpy.identity(len(restaurants)))"
   ]
  },
  {
   "cell_type": "code",
   "execution_count": 10,
   "metadata": {},
   "outputs": [
    {
     "data": {
      "text/plain": [
       "matrix([[ 1.,  0.,  0., ...,  0.,  0.,  0.],\n",
       "        [ 0.,  1.,  0., ...,  0.,  0.,  0.],\n",
       "        [ 0.,  0.,  1., ...,  0.,  0.,  0.],\n",
       "        ..., \n",
       "        [ 0.,  0.,  0., ...,  1.,  0.,  0.],\n",
       "        [ 0.,  0.,  0., ...,  0.,  1.,  0.],\n",
       "        [ 0.,  0.,  0., ...,  0.,  0.,  1.]])"
      ]
     },
     "execution_count": 10,
     "metadata": {},
     "output_type": "execute_result"
    }
   ],
   "source": [
    "restaurant_sim "
   ]
  },
  {
   "cell_type": "code",
   "execution_count": 11,
   "metadata": {
    "collapsed": true
   },
   "outputs": [],
   "source": [
    "tag_sim = matrix(numpy.identity(len(tags)))"
   ]
  },
  {
   "cell_type": "code",
   "execution_count": 12,
   "metadata": {},
   "outputs": [
    {
     "data": {
      "text/plain": [
       "matrix([[ 1.,  0.,  0.,  0.,  0.,  0.,  0.,  0.,  0.,  0.,  0.,  0.,  0.,\n",
       "          0.],\n",
       "        [ 0.,  1.,  0.,  0.,  0.,  0.,  0.,  0.,  0.,  0.,  0.,  0.,  0.,\n",
       "          0.],\n",
       "        [ 0.,  0.,  1.,  0.,  0.,  0.,  0.,  0.,  0.,  0.,  0.,  0.,  0.,\n",
       "          0.],\n",
       "        [ 0.,  0.,  0.,  1.,  0.,  0.,  0.,  0.,  0.,  0.,  0.,  0.,  0.,\n",
       "          0.],\n",
       "        [ 0.,  0.,  0.,  0.,  1.,  0.,  0.,  0.,  0.,  0.,  0.,  0.,  0.,\n",
       "          0.],\n",
       "        [ 0.,  0.,  0.,  0.,  0.,  1.,  0.,  0.,  0.,  0.,  0.,  0.,  0.,\n",
       "          0.],\n",
       "        [ 0.,  0.,  0.,  0.,  0.,  0.,  1.,  0.,  0.,  0.,  0.,  0.,  0.,\n",
       "          0.],\n",
       "        [ 0.,  0.,  0.,  0.,  0.,  0.,  0.,  1.,  0.,  0.,  0.,  0.,  0.,\n",
       "          0.],\n",
       "        [ 0.,  0.,  0.,  0.,  0.,  0.,  0.,  0.,  1.,  0.,  0.,  0.,  0.,\n",
       "          0.],\n",
       "        [ 0.,  0.,  0.,  0.,  0.,  0.,  0.,  0.,  0.,  1.,  0.,  0.,  0.,\n",
       "          0.],\n",
       "        [ 0.,  0.,  0.,  0.,  0.,  0.,  0.,  0.,  0.,  0.,  1.,  0.,  0.,\n",
       "          0.],\n",
       "        [ 0.,  0.,  0.,  0.,  0.,  0.,  0.,  0.,  0.,  0.,  0.,  1.,  0.,\n",
       "          0.],\n",
       "        [ 0.,  0.,  0.,  0.,  0.,  0.,  0.,  0.,  0.,  0.,  0.,  0.,  1.,\n",
       "          0.],\n",
       "        [ 0.,  0.,  0.,  0.,  0.,  0.,  0.,  0.,  0.,  0.,  0.,  0.,  0.,\n",
       "          1.]])"
      ]
     },
     "execution_count": 12,
     "metadata": {},
     "output_type": "execute_result"
    }
   ],
   "source": [
    "tag_sim "
   ]
  },
  {
   "cell_type": "code",
   "execution_count": 13,
   "metadata": {
    "collapsed": true
   },
   "outputs": [],
   "source": [
    "# 計算兩個子集分別有多少種類\n",
    "def get_tags_num(restaurant):\n",
    "    r_i = restaurants.index(restaurant)\n",
    "    return graph[r_i]\n",
    "\n",
    "def get_restaurants_num(tag):\n",
    "    t_j = tags.index(tag)\n",
    "    return graph.transpose()[t_j]"
   ]
  },
  {
   "cell_type": "code",
   "execution_count": 14,
   "metadata": {
    "collapsed": true
   },
   "outputs": [],
   "source": [
    "#讓子集種類依照順序排序?\n",
    "def get_tags(restaurant):\n",
    "    series = get_tags_num(restaurant).tolist()[0]\n",
    "    return [ tags[x] for x in range(len(series)) if series[x] > 0 ]\n",
    "\n",
    "def get_restaurants(tag):\n",
    "    series = get_restaurants_num(tag).tolist()[0]\n",
    "    return [ restaurants[x] for x in range(len(series)) if series[x] > 0 ]"
   ]
  },
  {
   "cell_type": "code",
   "execution_count": 15,
   "metadata": {
    "collapsed": true
   },
   "outputs": [],
   "source": [
    "# 找到restaurant子集的相似度\n",
    "def restaurant_simrank(r1, r2, C):\n",
    "    \"\"\"\n",
    "    in this, graph[r_i] -> connected tags\n",
    "    \"\"\"\n",
    "    \"\"\"\n",
    "    print \"r1.tags\"\n",
    "    print get_tags_num(r1).tolist()\n",
    "    print \"r2.tags\"\n",
    "    print get_tags_num(r2).tolist()\n",
    "    \"\"\"\n",
    "    if r1 == r2 : return 1\n",
    "    prefix = C / (get_tags_num(r1).sum() * get_tags_num(r2).sum())\n",
    "    postfix = 0\n",
    "    for tag_i in get_tags(r1):\n",
    "        for tag_j in get_tags(r2):\n",
    "            i = tags.index(tag_i)\n",
    "            j = tags.index(tag_j)\n",
    "            postfix += tag_sim[i, j]\n",
    "    return prefix * postfix"
   ]
  },
  {
   "cell_type": "code",
   "execution_count": 16,
   "metadata": {
    "collapsed": true
   },
   "outputs": [],
   "source": [
    "# 找到tag 子集的相似度\n",
    "def tag_simrank(t1, t2, C):\n",
    "    \"\"\"\n",
    "    in this, graph need to be transposed to make ad to be the index\n",
    "    \"\"\"\n",
    "    \"\"\"\n",
    "    print \"t1.restaurants\"\n",
    "    print get_restaurants_num(t1)\n",
    "    print \"t2.restaurants\"\n",
    "    print get_restaurants_num(t2)\n",
    "    \"\"\"\n",
    "    if t1 == t2 : return 1\n",
    "    prefix = C / (get_restaurants_num(t1).sum() * get_restaurants_num(t2).sum())\n",
    "    postfix = 0\n",
    "    for restaurant_i in get_restaurants(t1):\n",
    "        for restaurant_j in get_restaurants(t2):\n",
    "            i = restaurants.index(restaurant_i)\n",
    "            j = restaurants.index(restaurant_j)\n",
    "            postfix += restaurant_sim[i,j]\n",
    "    return prefix * postfix"
   ]
  },
  {
   "cell_type": "code",
   "execution_count": 22,
   "metadata": {
    "collapsed": true
   },
   "outputs": [],
   "source": [
    "#依照兩個子集的相似度定義出新的相似度矩陣\n",
    "def simrank(C=0.8, times=1):\n",
    "    global restaurant_sim, tag_sim\n",
    "\n",
    "    for run in range(times):\n",
    "        # restaurants simrank\n",
    "        new_restaurant_sim = matrix(numpy.identity(len(restaurants)))\n",
    "        for ri in restaurants:\n",
    "            for rj in restaurants:\n",
    "                i =  restaurants.index(ri)\n",
    "                j =  restaurants.index(rj)\n",
    "                new_restaurant_sim[i,j] = restaurant_simrank(ri, rj, C)\n",
    "\n",
    "\n",
    "        # tags simrank\n",
    "        new_tag_sim = matrix(numpy.identity(len(tags)))\n",
    "        for ti in tags:\n",
    "            for tj in tags:\n",
    "                i = tags.index(ti)\n",
    "                j = tags.index(tj)\n",
    "                new_tag_sim[i,j] = tag_simrank(ti, tj, C)\n",
    "\n",
    "        restaurant_sim = new_restaurant_sim\n",
    "        tag_sim = new_tag_sim"
   ]
  },
  {
   "cell_type": "code",
   "execution_count": null,
   "metadata": {},
   "outputs": [],
   "source": [
    "if __name__ == '__main__':\n",
    "#     print(\"========================restaurants=========================\")\n",
    "#     print (restaurants[0])\n",
    "#     print(\"========================tags============================\")\n",
    "#     print (tags)\n",
    "    simrank()\n",
    "    print(\"========================restaurant_sim======================\")\n",
    "    print (restaurant_sim)\n",
    "    print(\"========================tag_sim=========================\")\n",
    "    print (tag_sim)"
   ]
  },
  {
   "cell_type": "code",
   "execution_count": null,
   "metadata": {
    "collapsed": true
   },
   "outputs": [],
   "source": [
    "restaurant_sim"
   ]
  },
  {
   "cell_type": "code",
   "execution_count": null,
   "metadata": {
    "collapsed": true
   },
   "outputs": [],
   "source": [
    "tmp = pd.DataFrame(restaurant_sim)"
   ]
  },
  {
   "cell_type": "code",
   "execution_count": null,
   "metadata": {
    "collapsed": true
   },
   "outputs": [],
   "source": [
    "pd.DataFrame.to_csv(tmp)"
   ]
  },
  {
   "cell_type": "code",
   "execution_count": null,
   "metadata": {
    "collapsed": true
   },
   "outputs": [],
   "source": [
    "tmp.to_csv('./emotion.csv')"
   ]
  },
  {
   "cell_type": "code",
   "execution_count": null,
   "metadata": {
    "collapsed": true
   },
   "outputs": [],
   "source": []
  }
 ],
 "metadata": {
  "kernelspec": {
   "display_name": "Python 3",
   "language": "python",
   "name": "python3"
  },
  "language_info": {
   "codemirror_mode": {
    "name": "ipython",
    "version": 3
   },
   "file_extension": ".py",
   "mimetype": "text/x-python",
   "name": "python",
   "nbconvert_exporter": "python",
   "pygments_lexer": "ipython3",
   "version": "3.6.1"
  }
 },
 "nbformat": 4,
 "nbformat_minor": 2
}
